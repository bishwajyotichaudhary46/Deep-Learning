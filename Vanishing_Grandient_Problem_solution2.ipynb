{
  "nbformat": 4,
  "nbformat_minor": 0,
  "metadata": {
    "colab": {
      "provenance": [],
      "gpuType": "T4"
    },
    "kernelspec": {
      "name": "python3",
      "display_name": "Python 3"
    },
    "language_info": {
      "name": "python"
    },
    "accelerator": "GPU"
  },
  "cells": [
    {
      "cell_type": "markdown",
      "source": [
        "# Using Relu Actvation F/n\n"
      ],
      "metadata": {
        "id": "2jIDV1J4ebbL"
      }
    },
    {
      "cell_type": "code",
      "execution_count": 1,
      "metadata": {
        "id": "RO1KEwPDVQ0P"
      },
      "outputs": [],
      "source": [
        "import tensorflow as tf\n",
        "import keras\n",
        "from keras.layers import Dense\n",
        "from keras.models import Sequential\n",
        "import matplotlib.pyplot as plt\n",
        "import numpy as np\n",
        "from sklearn.datasets import make_moons\n",
        "from sklearn.model_selection import train_test_split"
      ]
    },
    {
      "cell_type": "code",
      "source": [
        "X, y   = make_moons(n_samples=100, random_state=42)"
      ],
      "metadata": {
        "id": "uWI59ZcEV4tp"
      },
      "execution_count": 2,
      "outputs": []
    },
    {
      "cell_type": "code",
      "source": [
        "X"
      ],
      "metadata": {
        "colab": {
          "base_uri": "https://localhost:8080/"
        },
        "id": "l6acucV0WZhu",
        "outputId": "361f2766-e6a6-4c0f-f244-66c235b42aeb"
      },
      "execution_count": 3,
      "outputs": [
        {
          "output_type": "execute_result",
          "data": {
            "text/plain": [
              "array([[ 1.51839257e+00, -3.55142763e-01],\n",
              "       [ 1.84408430e-02,  3.08841371e-01],\n",
              "       [ 7.15472413e-01, -4.58667853e-01],\n",
              "       [-9.67294863e-01,  2.53654584e-01],\n",
              "       [-9.49055747e-01,  3.15108218e-01],\n",
              "       [-8.01413622e-01,  5.98110530e-01],\n",
              "       [ 1.59599895e-01,  9.87181783e-01],\n",
              "       [ 1.34536505e+00, -4.38468422e-01],\n",
              "       [ 8.01413622e-01,  5.98110530e-01],\n",
              "       [ 1.00000000e+00,  0.00000000e+00],\n",
              "       [ 4.04783343e-01,  9.14412623e-01],\n",
              "       [-3.45365054e-01,  9.38468422e-01],\n",
              "       [ 9.03976974e-01, -4.95379113e-01],\n",
              "       [-5.18392568e-01,  8.55142763e-01],\n",
              "       [ 1.83808810e+00, -4.55349012e-02],\n",
              "       [ 9.67294863e-01,  2.53654584e-01],\n",
              "       [ 1.09602303e+00, -4.95379113e-01],\n",
              "       [ 1.15959990e+00, -4.87181783e-01],\n",
              "       [ 7.18349350e-01,  6.95682551e-01],\n",
              "       [-4.04783343e-01,  9.14412623e-01],\n",
              "       [ 5.09442530e-02,  1.84891782e-01],\n",
              "       [ 1.76144596e+00, -1.48228395e-01],\n",
              "       [-9.60230259e-02,  9.95379113e-01],\n",
              "       [-9.00968868e-01,  4.33883739e-01],\n",
              "       [ 6.54634946e-01, -4.38468422e-01],\n",
              "       [ 5.72116660e-01,  8.20172255e-01],\n",
              "       [-8.38088105e-01,  5.45534901e-01],\n",
              "       [ 1.98155916e+00,  3.08841371e-01],\n",
              "       [ 8.38088105e-01,  5.45534901e-01],\n",
              "       [ 8.40400105e-01, -4.87181783e-01],\n",
              "       [ 7.61445958e-01,  6.48228395e-01],\n",
              "       [-9.91790014e-01,  1.27877162e-01],\n",
              "       [ 1.62348980e+00, -2.81831482e-01],\n",
              "       [-2.22520934e-01,  9.74927912e-01],\n",
              "       [ 1.92691676e+00,  1.24732995e-01],\n",
              "       [ 9.49055747e-01,  3.15108218e-01],\n",
              "       [ 4.81607432e-01, -3.55142763e-01],\n",
              "       [ 4.27883340e-01, -3.20172255e-01],\n",
              "       [-6.23489802e-01,  7.81831482e-01],\n",
              "       [ 5.18392568e-01,  8.55142763e-01],\n",
              "       [-1.00000000e+00,  1.22464680e-16],\n",
              "       [-5.72116660e-01,  8.20172255e-01],\n",
              "       [ 9.00968868e-01,  4.33883739e-01],\n",
              "       [ 1.96729486e+00,  2.46345416e-01],\n",
              "       [-1.59599895e-01,  9.87181783e-01],\n",
              "       [ 3.45365054e-01,  9.38468422e-01],\n",
              "       [ 1.40478334e+00, -4.14412623e-01],\n",
              "       [-3.20515776e-02,  9.99486216e-01],\n",
              "       [ 2.81650650e-01, -1.95682551e-01],\n",
              "       [ 6.72300890e-01,  7.40277997e-01],\n",
              "       [ 3.20515776e-02,  9.99486216e-01],\n",
              "       [ 9.81559157e-01,  1.91158629e-01],\n",
              "       [ 4.62538290e-01,  8.86599306e-01],\n",
              "       [-7.61445958e-01,  6.48228395e-01],\n",
              "       [ 8.71318704e-01,  4.90717552e-01],\n",
              "       [ 1.22252093e+00, -4.74927912e-01],\n",
              "       [ 9.26916757e-01,  3.75267005e-01],\n",
              "       [ 3.76510198e-01, -2.81831482e-01],\n",
              "       [-6.72300890e-01,  7.40277997e-01],\n",
              "       [ 1.80141362e+00, -9.81105305e-02],\n",
              "       [ 7.30832427e-02,  1.24732995e-01],\n",
              "       [ 2.00000000e+00,  5.00000000e-01],\n",
              "       [ 3.27051370e-02,  2.46345416e-01],\n",
              "       [-9.26916757e-01,  3.75267005e-01],\n",
              "       [ 0.00000000e+00,  5.00000000e-01],\n",
              "       [ 5.37461710e-01, -3.86599306e-01],\n",
              "       [-9.81559157e-01,  1.91158629e-01],\n",
              "       [ 5.95216657e-01, -4.14412623e-01],\n",
              "       [ 2.38554042e-01, -1.48228395e-01],\n",
              "       [ 1.99179001e+00,  3.72122838e-01],\n",
              "       [ 1.28452759e+00, -4.58667853e-01],\n",
              "       [-8.71318704e-01,  4.90717552e-01],\n",
              "       [ 1.28681296e-01,  9.28244800e-03],\n",
              "       [-9.97945393e-01,  6.40702200e-02],\n",
              "       [ 1.99794539e+00,  4.35929780e-01],\n",
              "       [ 9.90311321e-02,  6.61162609e-02],\n",
              "       [ 1.03205158e+00, -4.99486216e-01],\n",
              "       [-4.62538290e-01,  8.86599306e-01],\n",
              "       [ 1.94905575e+00,  1.84891782e-01],\n",
              "       [ 1.61911895e-01, -4.55349012e-02],\n",
              "       [ 3.27699110e-01, -2.40277997e-01],\n",
              "       [ 1.57211666e+00, -3.20172255e-01],\n",
              "       [-7.18349350e-01,  6.95682551e-01],\n",
              "       [-2.84527587e-01,  9.58667853e-01],\n",
              "       [ 9.97945393e-01,  6.40702200e-02],\n",
              "       [ 8.20998618e-03,  3.72122838e-01],\n",
              "       [ 2.22520934e-01,  9.74927912e-01],\n",
              "       [ 9.91790014e-01,  1.27877162e-01],\n",
              "       [ 9.60230259e-02,  9.95379113e-01],\n",
              "       [ 1.71834935e+00, -1.95682551e-01],\n",
              "       [ 1.87131870e+00,  9.28244800e-03],\n",
              "       [ 9.67948422e-01, -4.99486216e-01],\n",
              "       [ 1.67230089e+00, -2.40277997e-01],\n",
              "       [ 1.46253829e+00, -3.86599306e-01],\n",
              "       [ 2.84527587e-01,  9.58667853e-01],\n",
              "       [ 1.98586378e-01, -9.81105305e-02],\n",
              "       [ 7.77479066e-01, -4.74927912e-01],\n",
              "       [ 6.23489802e-01,  7.81831482e-01],\n",
              "       [ 1.90096887e+00,  6.61162609e-02],\n",
              "       [ 2.05460725e-03,  4.35929780e-01]])"
            ]
          },
          "metadata": {},
          "execution_count": 3
        }
      ]
    },
    {
      "cell_type": "code",
      "source": [
        "plt.scatter(X[:,0], X[:,1], c=y ,s=100)\n",
        "plt.show()"
      ],
      "metadata": {
        "colab": {
          "base_uri": "https://localhost:8080/",
          "height": 430
        },
        "id": "DUs6nUD1Wb55",
        "outputId": "9a83815a-dac0-42a7-f6b4-67af315013c7"
      },
      "execution_count": 4,
      "outputs": [
        {
          "output_type": "display_data",
          "data": {
            "text/plain": [
              "<Figure size 640x480 with 1 Axes>"
            ],
            "image/png": "[encoded data removed]"
          },
          "metadata": {}
        }
      ]
    },
    {
      "cell_type": "code",
      "source": [
        "model = Sequential()\n",
        "model.add(Dense(10, activation='relu', input_dim=2))\n",
        "model.add(Dense(10, activation='relu'))\n",
        "model.add(Dense(10, activation='relu'))\n",
        "model.add(Dense(10, activation='relu'))\n",
        "model.add(Dense(1, activation='sigmoid'))\n"
      ],
      "metadata": {
        "id": "ZUG2nSJ3WnJb"
      },
      "execution_count": 17,
      "outputs": []
    },
    {
      "cell_type": "code",
      "source": [
        "model.compile(loss='binary_crossentropy', optimizer='adam', metrics=['accuracy'])"
      ],
      "metadata": {
        "id": "wfuzhXhpXjgM"
      },
      "execution_count": 18,
      "outputs": []
    },
    {
      "cell_type": "code",
      "source": [
        "model.get_weights()[0]"
      ],
      "metadata": {
        "colab": {
          "base_uri": "https://localhost:8080/"
        },
        "id": "h5Lb1a1sYG3H",
        "outputId": "993a2856-4440-4630-c178-5cd39c003c45"
      },
      "execution_count": 19,
      "outputs": [
        {
          "output_type": "execute_result",
          "data": {
            "text/plain": [
              "array([[-0.56910366, -0.6572469 , -0.39976555, -0.57030433, -0.59509766,\n",
              "        -0.21927741, -0.54687864, -0.10544348, -0.03135723,  0.37688237],\n",
              "       [-0.03707576,  0.4649827 ,  0.26272154, -0.59262514,  0.10259926,\n",
              "        -0.24537253, -0.02339149, -0.70116055,  0.3251348 , -0.15227842]],\n",
              "      dtype=float32)"
            ]
          },
          "metadata": {},
          "execution_count": 19
        }
      ]
    },
    {
      "cell_type": "code",
      "source": [
        "old_weights = model.get_weights()[0]"
      ],
      "metadata": {
        "id": "W23vX2hsYL_o"
      },
      "execution_count": 20,
      "outputs": []
    },
    {
      "cell_type": "code",
      "source": [
        "X_train,X_test, y_train , y_test= train_test_split(X,y, random_state=42)"
      ],
      "metadata": {
        "id": "UYr2eQxdYeGl"
      },
      "execution_count": 21,
      "outputs": []
    },
    {
      "cell_type": "code",
      "source": [
        "model.fit(X_train,y_train,epochs=100)"
      ],
      "metadata": {
        "colab": {
          "base_uri": "https://localhost:8080/"
        },
        "id": "K4V1k9UMYvbC",
        "outputId": "1c5612cc-ddb6-4595-8771-413a350c81e2"
      },
      "execution_count": 22,
      "outputs": [
        {
          "output_type": "stream",
          "name": "stdout",
          "text": [
            "Epoch 1/100\n",
            "3/3 [==============================] - 2s 8ms/step - loss: 0.6846 - accuracy: 0.5467\n",
            "Epoch 2/100\n",
            "3/3 [==============================] - 0s 7ms/step - loss: 0.6807 - accuracy: 0.6133\n",
            "Epoch 3/100\n",
            "3/3 [==============================] - 0s 7ms/step - loss: 0.6772 - accuracy: 0.7067\n",
            "Epoch 4/100\n",
            "3/3 [==============================] - 0s 8ms/step - loss: 0.6737 - accuracy: 0.7733\n",
            "Epoch 5/100\n",
            "3/3 [==============================] - 0s 7ms/step - loss: 0.6702 - accuracy: 0.7733\n",
            "Epoch 6/100\n",
            "3/3 [==============================] - 0s 7ms/step - loss: 0.6669 - accuracy: 0.7733\n",
            "Epoch 7/100\n",
            "3/3 [==============================] - 0s 7ms/step - loss: 0.6635 - accuracy: 0.7867\n",
            "Epoch 8/100\n",
            "3/3 [==============================] - 0s 7ms/step - loss: 0.6598 - accuracy: 0.8000\n",
            "Epoch 9/100\n",
            "3/3 [==============================] - 0s 7ms/step - loss: 0.6563 - accuracy: 0.8000\n",
            "Epoch 10/100\n",
            "3/3 [==============================] - 0s 7ms/step - loss: 0.6522 - accuracy: 0.7867\n",
            "Epoch 11/100\n",
            "3/3 [==============================] - 0s 7ms/step - loss: 0.6483 - accuracy: 0.8000\n",
            "Epoch 12/100\n",
            "3/3 [==============================] - 0s 7ms/step - loss: 0.6445 - accuracy: 0.8000\n",
            "Epoch 13/100\n",
            "3/3 [==============================] - 0s 7ms/step - loss: 0.6404 - accuracy: 0.8000\n",
            "Epoch 14/100\n",
            "3/3 [==============================] - 0s 8ms/step - loss: 0.6359 - accuracy: 0.8000\n",
            "Epoch 15/100\n",
            "3/3 [==============================] - 0s 7ms/step - loss: 0.6316 - accuracy: 0.8000\n",
            "Epoch 16/100\n",
            "3/3 [==============================] - 0s 7ms/step - loss: 0.6274 - accuracy: 0.8000\n",
            "Epoch 17/100\n",
            "3/3 [==============================] - 0s 7ms/step - loss: 0.6227 - accuracy: 0.8000\n",
            "Epoch 18/100\n",
            "3/3 [==============================] - 0s 7ms/step - loss: 0.6176 - accuracy: 0.8000\n",
            "Epoch 19/100\n",
            "3/3 [==============================] - 0s 7ms/step - loss: 0.6123 - accuracy: 0.8000\n",
            "Epoch 20/100\n",
            "3/3 [==============================] - 0s 7ms/step - loss: 0.6067 - accuracy: 0.8000\n",
            "Epoch 21/100\n",
            "3/3 [==============================] - 0s 7ms/step - loss: 0.6009 - accuracy: 0.8000\n",
            "Epoch 22/100\n",
            "3/3 [==============================] - 0s 7ms/step - loss: 0.5942 - accuracy: 0.8133\n",
            "Epoch 23/100\n",
            "3/3 [==============================] - 0s 7ms/step - loss: 0.5880 - accuracy: 0.8133\n",
            "Epoch 24/100\n",
            "3/3 [==============================] - 0s 7ms/step - loss: 0.5817 - accuracy: 0.8133\n",
            "Epoch 25/100\n",
            "3/3 [==============================] - 0s 7ms/step - loss: 0.5745 - accuracy: 0.8000\n",
            "Epoch 26/100\n",
            "3/3 [==============================] - 0s 8ms/step - loss: 0.5684 - accuracy: 0.8000\n",
            "Epoch 27/100\n",
            "3/3 [==============================] - 0s 8ms/step - loss: 0.5617 - accuracy: 0.8000\n",
            "Epoch 28/100\n",
            "3/3 [==============================] - 0s 9ms/step - loss: 0.5547 - accuracy: 0.8133\n",
            "Epoch 29/100\n",
            "3/3 [==============================] - 0s 7ms/step - loss: 0.5482 - accuracy: 0.8133\n",
            "Epoch 30/100\n",
            "3/3 [==============================] - 0s 8ms/step - loss: 0.5418 - accuracy: 0.8133\n",
            "Epoch 31/100\n",
            "3/3 [==============================] - 0s 8ms/step - loss: 0.5346 - accuracy: 0.8133\n",
            "Epoch 32/100\n",
            "3/3 [==============================] - 0s 10ms/step - loss: 0.5280 - accuracy: 0.8133\n",
            "Epoch 33/100\n",
            "3/3 [==============================] - 0s 8ms/step - loss: 0.5213 - accuracy: 0.8133\n",
            "Epoch 34/100\n",
            "3/3 [==============================] - 0s 7ms/step - loss: 0.5144 - accuracy: 0.8133\n",
            "Epoch 35/100\n",
            "3/3 [==============================] - 0s 7ms/step - loss: 0.5079 - accuracy: 0.8133\n",
            "Epoch 36/100\n",
            "3/3 [==============================] - 0s 8ms/step - loss: 0.5011 - accuracy: 0.8133\n",
            "Epoch 37/100\n",
            "3/3 [==============================] - 0s 9ms/step - loss: 0.4942 - accuracy: 0.8133\n",
            "Epoch 38/100\n",
            "3/3 [==============================] - 0s 7ms/step - loss: 0.4882 - accuracy: 0.8133\n",
            "Epoch 39/100\n",
            "3/3 [==============================] - 0s 10ms/step - loss: 0.4809 - accuracy: 0.8133\n",
            "Epoch 40/100\n",
            "3/3 [==============================] - 0s 8ms/step - loss: 0.4747 - accuracy: 0.8133\n",
            "Epoch 41/100\n",
            "3/3 [==============================] - 0s 8ms/step - loss: 0.4683 - accuracy: 0.8133\n",
            "Epoch 42/100\n",
            "3/3 [==============================] - 0s 9ms/step - loss: 0.4617 - accuracy: 0.8133\n",
            "Epoch 43/100\n",
            "3/3 [==============================] - 0s 8ms/step - loss: 0.4555 - accuracy: 0.8133\n",
            "Epoch 44/100\n",
            "3/3 [==============================] - 0s 8ms/step - loss: 0.4490 - accuracy: 0.8133\n",
            "Epoch 45/100\n",
            "3/3 [==============================] - 0s 8ms/step - loss: 0.4430 - accuracy: 0.8133\n",
            "Epoch 46/100\n",
            "3/3 [==============================] - 0s 10ms/step - loss: 0.4369 - accuracy: 0.8133\n",
            "Epoch 47/100\n",
            "3/3 [==============================] - 0s 10ms/step - loss: 0.4310 - accuracy: 0.8267\n",
            "Epoch 48/100\n",
            "3/3 [==============================] - 0s 7ms/step - loss: 0.4245 - accuracy: 0.8267\n",
            "Epoch 49/100\n",
            "3/3 [==============================] - 0s 7ms/step - loss: 0.4188 - accuracy: 0.8267\n",
            "Epoch 50/100\n",
            "3/3 [==============================] - 0s 8ms/step - loss: 0.4125 - accuracy: 0.8267\n",
            "Epoch 51/100\n",
            "3/3 [==============================] - 0s 7ms/step - loss: 0.4064 - accuracy: 0.8267\n",
            "Epoch 52/100\n",
            "3/3 [==============================] - 0s 7ms/step - loss: 0.4006 - accuracy: 0.8267\n",
            "Epoch 53/100\n",
            "3/3 [==============================] - 0s 8ms/step - loss: 0.3947 - accuracy: 0.8267\n",
            "Epoch 54/100\n",
            "3/3 [==============================] - 0s 7ms/step - loss: 0.3885 - accuracy: 0.8267\n",
            "Epoch 55/100\n",
            "3/3 [==============================] - 0s 7ms/step - loss: 0.3824 - accuracy: 0.8267\n",
            "Epoch 56/100\n",
            "3/3 [==============================] - 0s 7ms/step - loss: 0.3768 - accuracy: 0.8267\n",
            "Epoch 57/100\n",
            "3/3 [==============================] - 0s 7ms/step - loss: 0.3710 - accuracy: 0.8267\n",
            "Epoch 58/100\n",
            "3/3 [==============================] - 0s 7ms/step - loss: 0.3656 - accuracy: 0.8267\n",
            "Epoch 59/100\n",
            "3/3 [==============================] - 0s 8ms/step - loss: 0.3594 - accuracy: 0.8267\n",
            "Epoch 60/100\n",
            "3/3 [==============================] - 0s 7ms/step - loss: 0.3534 - accuracy: 0.8400\n",
            "Epoch 61/100\n",
            "3/3 [==============================] - 0s 8ms/step - loss: 0.3474 - accuracy: 0.8400\n",
            "Epoch 62/100\n",
            "3/3 [==============================] - 0s 7ms/step - loss: 0.3414 - accuracy: 0.8400\n",
            "Epoch 63/100\n",
            "3/3 [==============================] - 0s 11ms/step - loss: 0.3353 - accuracy: 0.8533\n",
            "Epoch 64/100\n",
            "3/3 [==============================] - 0s 7ms/step - loss: 0.3297 - accuracy: 0.8533\n",
            "Epoch 65/100\n",
            "3/3 [==============================] - 0s 11ms/step - loss: 0.3240 - accuracy: 0.8533\n",
            "Epoch 66/100\n",
            "3/3 [==============================] - 0s 7ms/step - loss: 0.3181 - accuracy: 0.8533\n",
            "Epoch 67/100\n",
            "3/3 [==============================] - 0s 8ms/step - loss: 0.3124 - accuracy: 0.8533\n",
            "Epoch 68/100\n",
            "3/3 [==============================] - 0s 9ms/step - loss: 0.3065 - accuracy: 0.8667\n",
            "Epoch 69/100\n",
            "3/3 [==============================] - 0s 8ms/step - loss: 0.3012 - accuracy: 0.8667\n",
            "Epoch 70/100\n",
            "3/3 [==============================] - 0s 7ms/step - loss: 0.2968 - accuracy: 0.8667\n",
            "Epoch 71/100\n",
            "3/3 [==============================] - 0s 7ms/step - loss: 0.2917 - accuracy: 0.8800\n",
            "Epoch 72/100\n",
            "3/3 [==============================] - 0s 8ms/step - loss: 0.2860 - accuracy: 0.8800\n",
            "Epoch 73/100\n",
            "3/3 [==============================] - 0s 7ms/step - loss: 0.2813 - accuracy: 0.8800\n",
            "Epoch 74/100\n",
            "3/3 [==============================] - 0s 8ms/step - loss: 0.2771 - accuracy: 0.8933\n",
            "Epoch 75/100\n",
            "3/3 [==============================] - 0s 7ms/step - loss: 0.2720 - accuracy: 0.8933\n",
            "Epoch 76/100\n",
            "3/3 [==============================] - 0s 8ms/step - loss: 0.2673 - accuracy: 0.8933\n",
            "Epoch 77/100\n",
            "3/3 [==============================] - 0s 8ms/step - loss: 0.2636 - accuracy: 0.8933\n",
            "Epoch 78/100\n",
            "3/3 [==============================] - 0s 7ms/step - loss: 0.2584 - accuracy: 0.9067\n",
            "Epoch 79/100\n",
            "3/3 [==============================] - 0s 8ms/step - loss: 0.2540 - accuracy: 0.9067\n",
            "Epoch 80/100\n",
            "3/3 [==============================] - 0s 8ms/step - loss: 0.2499 - accuracy: 0.9200\n",
            "Epoch 81/100\n",
            "3/3 [==============================] - 0s 7ms/step - loss: 0.2456 - accuracy: 0.9200\n",
            "Epoch 82/100\n",
            "3/3 [==============================] - 0s 8ms/step - loss: 0.2412 - accuracy: 0.9200\n",
            "Epoch 83/100\n",
            "3/3 [==============================] - 0s 7ms/step - loss: 0.2381 - accuracy: 0.9200\n",
            "Epoch 84/100\n",
            "3/3 [==============================] - 0s 9ms/step - loss: 0.2335 - accuracy: 0.9200\n",
            "Epoch 85/100\n",
            "3/3 [==============================] - 0s 7ms/step - loss: 0.2293 - accuracy: 0.9067\n",
            "Epoch 86/100\n",
            "3/3 [==============================] - 0s 7ms/step - loss: 0.2256 - accuracy: 0.9200\n",
            "Epoch 87/100\n",
            "3/3 [==============================] - 0s 8ms/step - loss: 0.2217 - accuracy: 0.9200\n",
            "Epoch 88/100\n",
            "3/3 [==============================] - 0s 9ms/step - loss: 0.2183 - accuracy: 0.9333\n",
            "Epoch 89/100\n",
            "3/3 [==============================] - 0s 8ms/step - loss: 0.2148 - accuracy: 0.9333\n",
            "Epoch 90/100\n",
            "3/3 [==============================] - 0s 8ms/step - loss: 0.2107 - accuracy: 0.9333\n",
            "Epoch 91/100\n",
            "3/3 [==============================] - 0s 8ms/step - loss: 0.2073 - accuracy: 0.9333\n",
            "Epoch 92/100\n",
            "3/3 [==============================] - 0s 13ms/step - loss: 0.2035 - accuracy: 0.9333\n",
            "Epoch 93/100\n",
            "3/3 [==============================] - 0s 7ms/step - loss: 0.2003 - accuracy: 0.9333\n",
            "Epoch 94/100\n",
            "3/3 [==============================] - 0s 9ms/step - loss: 0.1970 - accuracy: 0.9333\n",
            "Epoch 95/100\n",
            "3/3 [==============================] - 0s 12ms/step - loss: 0.1939 - accuracy: 0.9333\n",
            "Epoch 96/100\n",
            "3/3 [==============================] - 0s 7ms/step - loss: 0.1907 - accuracy: 0.9333\n",
            "Epoch 97/100\n",
            "3/3 [==============================] - 0s 7ms/step - loss: 0.1876 - accuracy: 0.9333\n",
            "Epoch 98/100\n",
            "3/3 [==============================] - 0s 12ms/step - loss: 0.1844 - accuracy: 0.9333\n",
            "Epoch 99/100\n",
            "3/3 [==============================] - 0s 8ms/step - loss: 0.1810 - accuracy: 0.9333\n",
            "Epoch 100/100\n",
            "3/3 [==============================] - 0s 9ms/step - loss: 0.1781 - accuracy: 0.9333\n"
          ]
        },
        {
          "output_type": "execute_result",
          "data": {
            "text/plain": [
              "<keras.callbacks.History at 0x79fe200ff010>"
            ]
          },
          "metadata": {},
          "execution_count": 22
        }
      ]
    },
    {
      "cell_type": "code",
      "source": [
        "new_weights = model.get_weights()[0]"
      ],
      "metadata": {
        "id": "jran2YR0Y0pT"
      },
      "execution_count": 23,
      "outputs": []
    },
    {
      "cell_type": "code",
      "source": [
        "new_weights"
      ],
      "metadata": {
        "colab": {
          "base_uri": "https://localhost:8080/"
        },
        "id": "WrdDuu09ZGI9",
        "outputId": "9558239d-7ca7-4b0e-dab0-676b439cc7e0"
      },
      "execution_count": 24,
      "outputs": [
        {
          "output_type": "execute_result",
          "data": {
            "text/plain": [
              "array([[-0.6682168 , -0.80651736, -0.5453534 , -0.81981075, -0.46832156,\n",
              "        -0.34726962, -0.74347854, -0.0700165 ,  0.01737099,  0.45481202],\n",
              "       [ 0.01968977,  0.601406  ,  0.3440248 , -0.31096384, -0.02247776,\n",
              "        -0.0868411 ,  0.07497427, -0.95049167,  0.5993553 , -0.47716784]],\n",
              "      dtype=float32)"
            ]
          },
          "metadata": {},
          "execution_count": 24
        }
      ]
    },
    {
      "cell_type": "code",
      "source": [
        "old_weights"
      ],
      "metadata": {
        "colab": {
          "base_uri": "https://localhost:8080/"
        },
        "id": "8SZYy9kxZI5u",
        "outputId": "04711c77-2918-43c6-929b-cc2587a0071f"
      },
      "execution_count": 25,
      "outputs": [
        {
          "output_type": "execute_result",
          "data": {
            "text/plain": [
              "array([[-0.56910366, -0.6572469 , -0.39976555, -0.57030433, -0.59509766,\n",
              "        -0.21927741, -0.54687864, -0.10544348, -0.03135723,  0.37688237],\n",
              "       [-0.03707576,  0.4649827 ,  0.26272154, -0.59262514,  0.10259926,\n",
              "        -0.24537253, -0.02339149, -0.70116055,  0.3251348 , -0.15227842]],\n",
              "      dtype=float32)"
            ]
          },
          "metadata": {},
          "execution_count": 25
        }
      ]
    },
    {
      "cell_type": "code",
      "source": [
        "percentage_change = abs(100*(old_weights - new_weights)/old_weights)"
      ],
      "metadata": {
        "id": "22gVXQLeZK33"
      },
      "execution_count": 26,
      "outputs": []
    },
    {
      "cell_type": "code",
      "source": [
        "percentage_change"
      ],
      "metadata": {
        "colab": {
          "base_uri": "https://localhost:8080/"
        },
        "id": "xw13dYTQZZws",
        "outputId": "a0fe5037-8f21-4523-fba6-7fb612e908ab"
      },
      "execution_count": 27,
      "outputs": [
        {
          "output_type": "execute_result",
          "data": {
            "text/plain": [
              "array([[ 17.415663,  22.711477,  36.418312,  43.749695,  21.303411,\n",
              "         58.369995,  35.94946 ,  33.598076, 155.39708 ,  20.677444],\n",
              "       [153.10687 ,  29.339436,  30.946558,  47.527733, 121.90831 ,\n",
              "         64.60847 , 420.5195  ,  35.559776,  84.340546, 213.35223 ]],\n",
              "      dtype=float32)"
            ]
          },
          "metadata": {},
          "execution_count": 27
        }
      ]
    },
    {
      "cell_type": "code",
      "source": [
        "from mlxtend.plotting import plot_decision_regions\n",
        "plot_decision_regions(X_train,y_train.astype('int'),clf=model,legend=2)"
      ],
      "metadata": {
        "colab": {
          "base_uri": "https://localhost:8080/",
          "height": 465
        },
        "id": "U1IVkJPbZbiY",
        "outputId": "6fe9ba50-b9a8-4d0c-c6c1-279edd7ce0ae"
      },
      "execution_count": 28,
      "outputs": [
        {
          "output_type": "stream",
          "name": "stdout",
          "text": [
            "9600/9600 [==============================] - 18s 2ms/step\n"
          ]
        },
        {
          "output_type": "execute_result",
          "data": {
            "text/plain": [
              "<Axes: >"
            ]
          },
          "metadata": {},
          "execution_count": 28
        },
        {
          "output_type": "display_data",
          "data": {
            "text/plain": [
              "<Figure size 640x480 with 1 Axes>"
            ],
            "image/png": "[encoded data removed]"
          },
          "metadata": {}
        }
      ]
    },
    {
      "cell_type": "code",
      "source": [],
      "metadata": {
        "id": "C5pXWJ0yabvH"
      },
      "execution_count": null,
      "outputs": []
    },
    {
      "cell_type": "code",
      "source": [],
      "metadata": {
        "id": "rr-OmeAQatNE"
      },
      "execution_count": null,
      "outputs": []
    },
    {
      "cell_type": "code",
      "source": [],
      "metadata": {
        "id": "e4ymam8jatP9"
      },
      "execution_count": null,
      "outputs": []
    },
    {
      "cell_type": "code",
      "source": [],
      "metadata": {
        "id": "D9y2xC8_atSp"
      },
      "execution_count": null,
      "outputs": []
    },
    {
      "cell_type": "code",
      "source": [],
      "metadata": {
        "id": "HYGztkohatU6"
      },
      "execution_count": null,
      "outputs": []
    },
    {
      "cell_type": "code",
      "source": [],
      "metadata": {
        "id": "VstZCnQqatXq"
      },
      "execution_count": null,
      "outputs": []
    },
    {
      "cell_type": "code",
      "source": [],
      "metadata": {
        "id": "31shyr-eataL"
      },
      "execution_count": null,
      "outputs": []
    }
  ]
}