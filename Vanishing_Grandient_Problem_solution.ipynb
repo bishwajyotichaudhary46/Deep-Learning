{
  "nbformat": 4,
  "nbformat_minor": 0,
  "metadata": {
    "colab": {
      "provenance": [],
      "gpuType": "T4"
    },
    "kernelspec": {
      "name": "python3",
      "display_name": "Python 3"
    },
    "language_info": {
      "name": "python"
    },
    "accelerator": "GPU"
  },
  "cells": [
    {
      "cell_type": "markdown",
      "source": [
        "# Reduce MOdel Complexity\n"
      ],
      "metadata": {
        "id": "2jIDV1J4ebbL"
      }
    },
    {
      "cell_type": "code",
      "execution_count": 24,
      "metadata": {
        "id": "RO1KEwPDVQ0P"
      },
      "outputs": [],
      "source": [
        "import tensorflow as tf\n",
        "import keras\n",
        "from keras.layers import Dense\n",
        "from keras.models import Sequential\n",
        "import matplotlib.pyplot as plt\n",
        "import numpy as np\n",
        "from sklearn.datasets import make_moons\n",
        "from sklearn.model_selection import train_test_split"
      ]
    },
    {
      "cell_type": "code",
      "source": [
        "X, y   = make_moons(n_samples=100, random_state=42)"
      ],
      "metadata": {
        "id": "uWI59ZcEV4tp"
      },
      "execution_count": 25,
      "outputs": []
    },
    {
      "cell_type": "code",
      "source": [
        "X"
      ],
      "metadata": {
        "colab": {
          "base_uri": "https://localhost:8080/"
        },
        "id": "l6acucV0WZhu",
        "outputId": "36dab0b2-69a3-4141-9d85-87f98b6a35a8"
      },
      "execution_count": 5,
      "outputs": [
        {
          "output_type": "execute_result",
          "data": {
            "text/plain": [
              "array([[ 1.51839257e+00, -3.55142763e-01],\n",
              "       [ 1.84408430e-02,  3.08841371e-01],\n",
              "       [ 7.15472413e-01, -4.58667853e-01],\n",
              "       [-9.67294863e-01,  2.53654584e-01],\n",
              "       [-9.49055747e-01,  3.15108218e-01],\n",
              "       [-8.01413622e-01,  5.98110530e-01],\n",
              "       [ 1.59599895e-01,  9.87181783e-01],\n",
              "       [ 1.34536505e+00, -4.38468422e-01],\n",
              "       [ 8.01413622e-01,  5.98110530e-01],\n",
              "       [ 1.00000000e+00,  0.00000000e+00],\n",
              "       [ 4.04783343e-01,  9.14412623e-01],\n",
              "       [-3.45365054e-01,  9.38468422e-01],\n",
              "       [ 9.03976974e-01, -4.95379113e-01],\n",
              "       [-5.18392568e-01,  8.55142763e-01],\n",
              "       [ 1.83808810e+00, -4.55349012e-02],\n",
              "       [ 9.67294863e-01,  2.53654584e-01],\n",
              "       [ 1.09602303e+00, -4.95379113e-01],\n",
              "       [ 1.15959990e+00, -4.87181783e-01],\n",
              "       [ 7.18349350e-01,  6.95682551e-01],\n",
              "       [-4.04783343e-01,  9.14412623e-01],\n",
              "       [ 5.09442530e-02,  1.84891782e-01],\n",
              "       [ 1.76144596e+00, -1.48228395e-01],\n",
              "       [-9.60230259e-02,  9.95379113e-01],\n",
              "       [-9.00968868e-01,  4.33883739e-01],\n",
              "       [ 6.54634946e-01, -4.38468422e-01],\n",
              "       [ 5.72116660e-01,  8.20172255e-01],\n",
              "       [-8.38088105e-01,  5.45534901e-01],\n",
              "       [ 1.98155916e+00,  3.08841371e-01],\n",
              "       [ 8.38088105e-01,  5.45534901e-01],\n",
              "       [ 8.40400105e-01, -4.87181783e-01],\n",
              "       [ 7.61445958e-01,  6.48228395e-01],\n",
              "       [-9.91790014e-01,  1.27877162e-01],\n",
              "       [ 1.62348980e+00, -2.81831482e-01],\n",
              "       [-2.22520934e-01,  9.74927912e-01],\n",
              "       [ 1.92691676e+00,  1.24732995e-01],\n",
              "       [ 9.49055747e-01,  3.15108218e-01],\n",
              "       [ 4.81607432e-01, -3.55142763e-01],\n",
              "       [ 4.27883340e-01, -3.20172255e-01],\n",
              "       [-6.23489802e-01,  7.81831482e-01],\n",
              "       [ 5.18392568e-01,  8.55142763e-01],\n",
              "       [-1.00000000e+00,  1.22464680e-16],\n",
              "       [-5.72116660e-01,  8.20172255e-01],\n",
              "       [ 9.00968868e-01,  4.33883739e-01],\n",
              "       [ 1.96729486e+00,  2.46345416e-01],\n",
              "       [-1.59599895e-01,  9.87181783e-01],\n",
              "       [ 3.45365054e-01,  9.38468422e-01],\n",
              "       [ 1.40478334e+00, -4.14412623e-01],\n",
              "       [-3.20515776e-02,  9.99486216e-01],\n",
              "       [ 2.81650650e-01, -1.95682551e-01],\n",
              "       [ 6.72300890e-01,  7.40277997e-01],\n",
              "       [ 3.20515776e-02,  9.99486216e-01],\n",
              "       [ 9.81559157e-01,  1.91158629e-01],\n",
              "       [ 4.62538290e-01,  8.86599306e-01],\n",
              "       [-7.61445958e-01,  6.48228395e-01],\n",
              "       [ 8.71318704e-01,  4.90717552e-01],\n",
              "       [ 1.22252093e+00, -4.74927912e-01],\n",
              "       [ 9.26916757e-01,  3.75267005e-01],\n",
              "       [ 3.76510198e-01, -2.81831482e-01],\n",
              "       [-6.72300890e-01,  7.40277997e-01],\n",
              "       [ 1.80141362e+00, -9.81105305e-02],\n",
              "       [ 7.30832427e-02,  1.24732995e-01],\n",
              "       [ 2.00000000e+00,  5.00000000e-01],\n",
              "       [ 3.27051370e-02,  2.46345416e-01],\n",
              "       [-9.26916757e-01,  3.75267005e-01],\n",
              "       [ 0.00000000e+00,  5.00000000e-01],\n",
              "       [ 5.37461710e-01, -3.86599306e-01],\n",
              "       [-9.81559157e-01,  1.91158629e-01],\n",
              "       [ 5.95216657e-01, -4.14412623e-01],\n",
              "       [ 2.38554042e-01, -1.48228395e-01],\n",
              "       [ 1.99179001e+00,  3.72122838e-01],\n",
              "       [ 1.28452759e+00, -4.58667853e-01],\n",
              "       [-8.71318704e-01,  4.90717552e-01],\n",
              "       [ 1.28681296e-01,  9.28244800e-03],\n",
              "       [-9.97945393e-01,  6.40702200e-02],\n",
              "       [ 1.99794539e+00,  4.35929780e-01],\n",
              "       [ 9.90311321e-02,  6.61162609e-02],\n",
              "       [ 1.03205158e+00, -4.99486216e-01],\n",
              "       [-4.62538290e-01,  8.86599306e-01],\n",
              "       [ 1.94905575e+00,  1.84891782e-01],\n",
              "       [ 1.61911895e-01, -4.55349012e-02],\n",
              "       [ 3.27699110e-01, -2.40277997e-01],\n",
              "       [ 1.57211666e+00, -3.20172255e-01],\n",
              "       [-7.18349350e-01,  6.95682551e-01],\n",
              "       [-2.84527587e-01,  9.58667853e-01],\n",
              "       [ 9.97945393e-01,  6.40702200e-02],\n",
              "       [ 8.20998618e-03,  3.72122838e-01],\n",
              "       [ 2.22520934e-01,  9.74927912e-01],\n",
              "       [ 9.91790014e-01,  1.27877162e-01],\n",
              "       [ 9.60230259e-02,  9.95379113e-01],\n",
              "       [ 1.71834935e+00, -1.95682551e-01],\n",
              "       [ 1.87131870e+00,  9.28244800e-03],\n",
              "       [ 9.67948422e-01, -4.99486216e-01],\n",
              "       [ 1.67230089e+00, -2.40277997e-01],\n",
              "       [ 1.46253829e+00, -3.86599306e-01],\n",
              "       [ 2.84527587e-01,  9.58667853e-01],\n",
              "       [ 1.98586378e-01, -9.81105305e-02],\n",
              "       [ 7.77479066e-01, -4.74927912e-01],\n",
              "       [ 6.23489802e-01,  7.81831482e-01],\n",
              "       [ 1.90096887e+00,  6.61162609e-02],\n",
              "       [ 2.05460725e-03,  4.35929780e-01]])"
            ]
          },
          "metadata": {},
          "execution_count": 5
        }
      ]
    },
    {
      "cell_type": "code",
      "source": [
        "plt.scatter(X[:,0], X[:,1], c=y ,s=100)\n",
        "plt.show()"
      ],
      "metadata": {
        "colab": {
          "base_uri": "https://localhost:8080/",
          "height": 430
        },
        "id": "DUs6nUD1Wb55",
        "outputId": "d47f65b9-c9ed-4a77-e18f-58ed6840650f"
      },
      "execution_count": 26,
      "outputs": [
        {
          "output_type": "display_data",
          "data": {
            "text/plain": [
              "<Figure size 640x480 with 1 Axes>"
            ],
            "image/png": "[encoded data removed]"
          },
          "metadata": {}
        }
      ]
    },
    {
      "cell_type": "code",
      "source": [
        "model = Sequential()\n",
        "model.add(Dense(10, activation='sigmoid', input_dim=2))\n",
        "model.add(Dense(10, activation='sigmoid'))\n",
        "model.add(Dense(10, activation='sigmoid'))\n",
        "model.add(Dense(10, activation='sigmoid'))\n",
        "model.add(Dense(1, activation='sigmoid'))\n"
      ],
      "metadata": {
        "id": "ZUG2nSJ3WnJb"
      },
      "execution_count": 27,
      "outputs": []
    },
    {
      "cell_type": "code",
      "source": [
        "model.compile(loss='binary_crossentropy', optimizer='adam', metrics=['accuracy'])"
      ],
      "metadata": {
        "id": "wfuzhXhpXjgM"
      },
      "execution_count": 28,
      "outputs": []
    },
    {
      "cell_type": "code",
      "source": [
        "model.get_weights()[0]"
      ],
      "metadata": {
        "colab": {
          "base_uri": "https://localhost:8080/"
        },
        "id": "h5Lb1a1sYG3H",
        "outputId": "a92139f7-efd3-47cf-d230-3e8691f5bf80"
      },
      "execution_count": 11,
      "outputs": [
        {
          "output_type": "execute_result",
          "data": {
            "text/plain": [
              "array([[ 0.00607169, -0.28068468,  0.27665222,  0.4919116 ,  0.11416721,\n",
              "         0.33837467, -0.6408607 ,  0.6731935 ,  0.49035138,  0.01392853],\n",
              "       [ 0.11580253, -0.5285579 ,  0.07458156, -0.5910212 , -0.49455565,\n",
              "        -0.705389  ,  0.13376969, -0.3079168 ,  0.24040747,  0.11392343]],\n",
              "      dtype=float32)"
            ]
          },
          "metadata": {},
          "execution_count": 11
        }
      ]
    },
    {
      "cell_type": "code",
      "source": [
        "old_weights = model.get_weights()[0]"
      ],
      "metadata": {
        "id": "W23vX2hsYL_o"
      },
      "execution_count": 29,
      "outputs": []
    },
    {
      "cell_type": "code",
      "source": [
        "X_train,X_test, y_train , y_test= train_test_split(X,y, random_state=42)"
      ],
      "metadata": {
        "id": "UYr2eQxdYeGl"
      },
      "execution_count": 30,
      "outputs": []
    },
    {
      "cell_type": "code",
      "source": [
        "model.fit(X_train,y_train,epochs=100)"
      ],
      "metadata": {
        "colab": {
          "base_uri": "https://localhost:8080/"
        },
        "id": "K4V1k9UMYvbC",
        "outputId": "8d0ff530-0caf-46ee-ddae-4e75b324451f"
      },
      "execution_count": 31,
      "outputs": [
        {
          "output_type": "stream",
          "name": "stdout",
          "text": [
            "Epoch 1/100\n",
            "3/3 [==============================] - 2s 8ms/step - loss: 1.0380 - accuracy: 0.4400\n",
            "Epoch 2/100\n",
            "3/3 [==============================] - 0s 6ms/step - loss: 1.0222 - accuracy: 0.4400\n",
            "Epoch 3/100\n",
            "3/3 [==============================] - 0s 6ms/step - loss: 1.0070 - accuracy: 0.4400\n",
            "Epoch 4/100\n",
            "3/3 [==============================] - 0s 7ms/step - loss: 0.9924 - accuracy: 0.4400\n",
            "Epoch 5/100\n",
            "3/3 [==============================] - 0s 7ms/step - loss: 0.9781 - accuracy: 0.4400\n",
            "Epoch 6/100\n",
            "3/3 [==============================] - 0s 6ms/step - loss: 0.9636 - accuracy: 0.4400\n",
            "Epoch 7/100\n",
            "3/3 [==============================] - 0s 6ms/step - loss: 0.9511 - accuracy: 0.4400\n",
            "Epoch 8/100\n",
            "3/3 [==============================] - 0s 6ms/step - loss: 0.9371 - accuracy: 0.4400\n",
            "Epoch 9/100\n",
            "3/3 [==============================] - 0s 6ms/step - loss: 0.9243 - accuracy: 0.4400\n",
            "Epoch 10/100\n",
            "3/3 [==============================] - 0s 6ms/step - loss: 0.9133 - accuracy: 0.4400\n",
            "Epoch 11/100\n",
            "3/3 [==============================] - 0s 7ms/step - loss: 0.9002 - accuracy: 0.4400\n",
            "Epoch 12/100\n",
            "3/3 [==============================] - 0s 6ms/step - loss: 0.8885 - accuracy: 0.4400\n",
            "Epoch 13/100\n",
            "3/3 [==============================] - 0s 7ms/step - loss: 0.8772 - accuracy: 0.4400\n",
            "Epoch 14/100\n",
            "3/3 [==============================] - 0s 6ms/step - loss: 0.8661 - accuracy: 0.4400\n",
            "Epoch 15/100\n",
            "3/3 [==============================] - 0s 7ms/step - loss: 0.8560 - accuracy: 0.4400\n",
            "Epoch 16/100\n",
            "3/3 [==============================] - 0s 6ms/step - loss: 0.8447 - accuracy: 0.4400\n",
            "Epoch 17/100\n",
            "3/3 [==============================] - 0s 6ms/step - loss: 0.8357 - accuracy: 0.4400\n",
            "Epoch 18/100\n",
            "3/3 [==============================] - 0s 7ms/step - loss: 0.8269 - accuracy: 0.4400\n",
            "Epoch 19/100\n",
            "3/3 [==============================] - 0s 8ms/step - loss: 0.8179 - accuracy: 0.4400\n",
            "Epoch 20/100\n",
            "3/3 [==============================] - 0s 9ms/step - loss: 0.8103 - accuracy: 0.4400\n",
            "Epoch 21/100\n",
            "3/3 [==============================] - 0s 7ms/step - loss: 0.8016 - accuracy: 0.4400\n",
            "Epoch 22/100\n",
            "3/3 [==============================] - 0s 7ms/step - loss: 0.7939 - accuracy: 0.4400\n",
            "Epoch 23/100\n",
            "3/3 [==============================] - 0s 7ms/step - loss: 0.7875 - accuracy: 0.4400\n",
            "Epoch 24/100\n",
            "3/3 [==============================] - 0s 7ms/step - loss: 0.7804 - accuracy: 0.4400\n",
            "Epoch 25/100\n",
            "3/3 [==============================] - 0s 7ms/step - loss: 0.7738 - accuracy: 0.4400\n",
            "Epoch 26/100\n",
            "3/3 [==============================] - 0s 7ms/step - loss: 0.7681 - accuracy: 0.4400\n",
            "Epoch 27/100\n",
            "3/3 [==============================] - 0s 7ms/step - loss: 0.7614 - accuracy: 0.4400\n",
            "Epoch 28/100\n",
            "3/3 [==============================] - 0s 6ms/step - loss: 0.7563 - accuracy: 0.4400\n",
            "Epoch 29/100\n",
            "3/3 [==============================] - 0s 7ms/step - loss: 0.7511 - accuracy: 0.4400\n",
            "Epoch 30/100\n",
            "3/3 [==============================] - 0s 9ms/step - loss: 0.7469 - accuracy: 0.4400\n",
            "Epoch 31/100\n",
            "3/3 [==============================] - 0s 7ms/step - loss: 0.7423 - accuracy: 0.4400\n",
            "Epoch 32/100\n",
            "3/3 [==============================] - 0s 7ms/step - loss: 0.7382 - accuracy: 0.4400\n",
            "Epoch 33/100\n",
            "3/3 [==============================] - 0s 7ms/step - loss: 0.7343 - accuracy: 0.4400\n",
            "Epoch 34/100\n",
            "3/3 [==============================] - 0s 7ms/step - loss: 0.7306 - accuracy: 0.4400\n",
            "Epoch 35/100\n",
            "3/3 [==============================] - 0s 7ms/step - loss: 0.7261 - accuracy: 0.4400\n",
            "Epoch 36/100\n",
            "3/3 [==============================] - 0s 7ms/step - loss: 0.7227 - accuracy: 0.4400\n",
            "Epoch 37/100\n",
            "3/3 [==============================] - 0s 7ms/step - loss: 0.7191 - accuracy: 0.4400\n",
            "Epoch 38/100\n",
            "3/3 [==============================] - 0s 6ms/step - loss: 0.7163 - accuracy: 0.4400\n",
            "Epoch 39/100\n",
            "3/3 [==============================] - 0s 7ms/step - loss: 0.7128 - accuracy: 0.4400\n",
            "Epoch 40/100\n",
            "3/3 [==============================] - 0s 7ms/step - loss: 0.7106 - accuracy: 0.4400\n",
            "Epoch 41/100\n",
            "3/3 [==============================] - 0s 7ms/step - loss: 0.7077 - accuracy: 0.4400\n",
            "Epoch 42/100\n",
            "3/3 [==============================] - 0s 6ms/step - loss: 0.7059 - accuracy: 0.4400\n",
            "Epoch 43/100\n",
            "3/3 [==============================] - 0s 13ms/step - loss: 0.7039 - accuracy: 0.4400\n",
            "Epoch 44/100\n",
            "3/3 [==============================] - 0s 7ms/step - loss: 0.7023 - accuracy: 0.4400\n",
            "Epoch 45/100\n",
            "3/3 [==============================] - 0s 6ms/step - loss: 0.7003 - accuracy: 0.4400\n",
            "Epoch 46/100\n",
            "3/3 [==============================] - 0s 7ms/step - loss: 0.6994 - accuracy: 0.4400\n",
            "Epoch 47/100\n",
            "3/3 [==============================] - 0s 7ms/step - loss: 0.6983 - accuracy: 0.4400\n",
            "Epoch 48/100\n",
            "3/3 [==============================] - 0s 11ms/step - loss: 0.6972 - accuracy: 0.4400\n",
            "Epoch 49/100\n",
            "3/3 [==============================] - 0s 7ms/step - loss: 0.6962 - accuracy: 0.4400\n",
            "Epoch 50/100\n",
            "3/3 [==============================] - 0s 7ms/step - loss: 0.6951 - accuracy: 0.4400\n",
            "Epoch 51/100\n",
            "3/3 [==============================] - 0s 7ms/step - loss: 0.6939 - accuracy: 0.4400\n",
            "Epoch 52/100\n",
            "3/3 [==============================] - 0s 7ms/step - loss: 0.6933 - accuracy: 0.4400\n",
            "Epoch 53/100\n",
            "3/3 [==============================] - 0s 6ms/step - loss: 0.6919 - accuracy: 0.4400\n",
            "Epoch 54/100\n",
            "3/3 [==============================] - 0s 7ms/step - loss: 0.6915 - accuracy: 0.6800\n",
            "Epoch 55/100\n",
            "3/3 [==============================] - 0s 7ms/step - loss: 0.6906 - accuracy: 0.6533\n",
            "Epoch 56/100\n",
            "3/3 [==============================] - 0s 8ms/step - loss: 0.6897 - accuracy: 0.5600\n",
            "Epoch 57/100\n",
            "3/3 [==============================] - 0s 7ms/step - loss: 0.6890 - accuracy: 0.5600\n",
            "Epoch 58/100\n",
            "3/3 [==============================] - 0s 7ms/step - loss: 0.6884 - accuracy: 0.5600\n",
            "Epoch 59/100\n",
            "3/3 [==============================] - 0s 7ms/step - loss: 0.6879 - accuracy: 0.5600\n",
            "Epoch 60/100\n",
            "3/3 [==============================] - 0s 7ms/step - loss: 0.6873 - accuracy: 0.5600\n",
            "Epoch 61/100\n",
            "3/3 [==============================] - 0s 7ms/step - loss: 0.6871 - accuracy: 0.5600\n",
            "Epoch 62/100\n",
            "3/3 [==============================] - 0s 7ms/step - loss: 0.6865 - accuracy: 0.5600\n",
            "Epoch 63/100\n",
            "3/3 [==============================] - 0s 7ms/step - loss: 0.6861 - accuracy: 0.5600\n",
            "Epoch 64/100\n",
            "3/3 [==============================] - 0s 8ms/step - loss: 0.6858 - accuracy: 0.5600\n",
            "Epoch 65/100\n",
            "3/3 [==============================] - 0s 7ms/step - loss: 0.6855 - accuracy: 0.5600\n",
            "Epoch 66/100\n",
            "3/3 [==============================] - 0s 7ms/step - loss: 0.6853 - accuracy: 0.5600\n",
            "Epoch 67/100\n",
            "3/3 [==============================] - 0s 12ms/step - loss: 0.6848 - accuracy: 0.5600\n",
            "Epoch 68/100\n",
            "3/3 [==============================] - 0s 8ms/step - loss: 0.6846 - accuracy: 0.5600\n",
            "Epoch 69/100\n",
            "3/3 [==============================] - 0s 7ms/step - loss: 0.6845 - accuracy: 0.5600\n",
            "Epoch 70/100\n",
            "3/3 [==============================] - 0s 8ms/step - loss: 0.6841 - accuracy: 0.5600\n",
            "Epoch 71/100\n",
            "3/3 [==============================] - 0s 8ms/step - loss: 0.6839 - accuracy: 0.5600\n",
            "Epoch 72/100\n",
            "3/3 [==============================] - 0s 7ms/step - loss: 0.6836 - accuracy: 0.5600\n",
            "Epoch 73/100\n",
            "3/3 [==============================] - 0s 7ms/step - loss: 0.6834 - accuracy: 0.5600\n",
            "Epoch 74/100\n",
            "3/3 [==============================] - 0s 8ms/step - loss: 0.6832 - accuracy: 0.5600\n",
            "Epoch 75/100\n",
            "3/3 [==============================] - 0s 8ms/step - loss: 0.6831 - accuracy: 0.5600\n",
            "Epoch 76/100\n",
            "3/3 [==============================] - 0s 7ms/step - loss: 0.6829 - accuracy: 0.5600\n",
            "Epoch 77/100\n",
            "3/3 [==============================] - 0s 7ms/step - loss: 0.6828 - accuracy: 0.5600\n",
            "Epoch 78/100\n",
            "3/3 [==============================] - 0s 8ms/step - loss: 0.6826 - accuracy: 0.5600\n",
            "Epoch 79/100\n",
            "3/3 [==============================] - 0s 8ms/step - loss: 0.6826 - accuracy: 0.5600\n",
            "Epoch 80/100\n",
            "3/3 [==============================] - 0s 7ms/step - loss: 0.6825 - accuracy: 0.5600\n",
            "Epoch 81/100\n",
            "3/3 [==============================] - 0s 7ms/step - loss: 0.6824 - accuracy: 0.5600\n",
            "Epoch 82/100\n",
            "3/3 [==============================] - 0s 7ms/step - loss: 0.6823 - accuracy: 0.5600\n",
            "Epoch 83/100\n",
            "3/3 [==============================] - 0s 7ms/step - loss: 0.6822 - accuracy: 0.5600\n",
            "Epoch 84/100\n",
            "3/3 [==============================] - 0s 7ms/step - loss: 0.6821 - accuracy: 0.5600\n",
            "Epoch 85/100\n",
            "3/3 [==============================] - 0s 7ms/step - loss: 0.6819 - accuracy: 0.5600\n",
            "Epoch 86/100\n",
            "3/3 [==============================] - 0s 7ms/step - loss: 0.6818 - accuracy: 0.5600\n",
            "Epoch 87/100\n",
            "3/3 [==============================] - 0s 7ms/step - loss: 0.6817 - accuracy: 0.5600\n",
            "Epoch 88/100\n",
            "3/3 [==============================] - 0s 7ms/step - loss: 0.6815 - accuracy: 0.5600\n",
            "Epoch 89/100\n",
            "3/3 [==============================] - 0s 9ms/step - loss: 0.6813 - accuracy: 0.5600\n",
            "Epoch 90/100\n",
            "3/3 [==============================] - 0s 7ms/step - loss: 0.6811 - accuracy: 0.5600\n",
            "Epoch 91/100\n",
            "3/3 [==============================] - 0s 8ms/step - loss: 0.6809 - accuracy: 0.5600\n",
            "Epoch 92/100\n",
            "3/3 [==============================] - 0s 7ms/step - loss: 0.6807 - accuracy: 0.5600\n",
            "Epoch 93/100\n",
            "3/3 [==============================] - 0s 7ms/step - loss: 0.6805 - accuracy: 0.5600\n",
            "Epoch 94/100\n",
            "3/3 [==============================] - 0s 7ms/step - loss: 0.6803 - accuracy: 0.5600\n",
            "Epoch 95/100\n",
            "3/3 [==============================] - 0s 7ms/step - loss: 0.6801 - accuracy: 0.5600\n",
            "Epoch 96/100\n",
            "3/3 [==============================] - 0s 8ms/step - loss: 0.6799 - accuracy: 0.5600\n",
            "Epoch 97/100\n",
            "3/3 [==============================] - 0s 7ms/step - loss: 0.6798 - accuracy: 0.5600\n",
            "Epoch 98/100\n",
            "3/3 [==============================] - 0s 8ms/step - loss: 0.6795 - accuracy: 0.5600\n",
            "Epoch 99/100\n",
            "3/3 [==============================] - 0s 8ms/step - loss: 0.6793 - accuracy: 0.5600\n",
            "Epoch 100/100\n",
            "3/3 [==============================] - 0s 6ms/step - loss: 0.6791 - accuracy: 0.5600\n"
          ]
        },
        {
          "output_type": "execute_result",
          "data": {
            "text/plain": [
              "<keras.callbacks.History at 0x7e93d017dcf0>"
            ]
          },
          "metadata": {},
          "execution_count": 31
        }
      ]
    },
    {
      "cell_type": "code",
      "source": [
        "new_weights = model.get_weights()[0]"
      ],
      "metadata": {
        "id": "jran2YR0Y0pT"
      },
      "execution_count": 32,
      "outputs": []
    },
    {
      "cell_type": "code",
      "source": [
        "new_weights"
      ],
      "metadata": {
        "colab": {
          "base_uri": "https://localhost:8080/"
        },
        "id": "WrdDuu09ZGI9",
        "outputId": "047ce68c-0453-458b-da6d-7c732f80e70a"
      },
      "execution_count": 33,
      "outputs": [
        {
          "output_type": "execute_result",
          "data": {
            "text/plain": [
              "array([[-0.31396216, -0.09817589,  0.15485674, -0.52394146,  0.03893109,\n",
              "         0.53530616, -0.23295023,  0.767504  ,  0.4720938 ,  0.1719282 ],\n",
              "       [ 0.71559596, -0.7295399 , -1.0719596 ,  0.9095074 ,  0.9313327 ,\n",
              "        -0.26343146, -0.08932029, -0.63374007, -0.3779602 , -0.49984318]],\n",
              "      dtype=float32)"
            ]
          },
          "metadata": {},
          "execution_count": 33
        }
      ]
    },
    {
      "cell_type": "code",
      "source": [
        "old_weights"
      ],
      "metadata": {
        "colab": {
          "base_uri": "https://localhost:8080/"
        },
        "id": "8SZYy9kxZI5u",
        "outputId": "cb3f25de-7431-4e6d-c4d3-6293eb5be87a"
      },
      "execution_count": 34,
      "outputs": [
        {
          "output_type": "execute_result",
          "data": {
            "text/plain": [
              "array([[-0.05079639, -0.44874945, -0.17547637, -0.20581436,  0.36840302,\n",
              "         0.23633087, -0.5283792 ,  0.48565394,  0.6779477 , -0.08235985],\n",
              "       [ 0.3431912 , -0.31081784, -0.66283   ,  0.4939838 ,  0.5316598 ,\n",
              "         0.13182002,  0.28347933, -0.22572571, -0.65596545, -0.14125162]],\n",
              "      dtype=float32)"
            ]
          },
          "metadata": {},
          "execution_count": 34
        }
      ]
    },
    {
      "cell_type": "code",
      "source": [
        "percentage_change = abs(100*(old_weights - new_weights)/old_weights)"
      ],
      "metadata": {
        "id": "22gVXQLeZK33"
      },
      "execution_count": 35,
      "outputs": []
    },
    {
      "cell_type": "code",
      "source": [
        "percentage_change"
      ],
      "metadata": {
        "colab": {
          "base_uri": "https://localhost:8080/"
        },
        "id": "xw13dYTQZZws",
        "outputId": "c229c5a9-b88e-4807-96db-8c4bc6d0e34f"
      },
      "execution_count": 36,
      "outputs": [
        {
          "output_type": "execute_result",
          "data": {
            "text/plain": [
              "array([[518.0797  ,  78.12234 , 188.24933 , 154.56992 ,  89.43247 ,\n",
              "        126.50709 ,  55.912308,  58.03516 ,  30.364275, 308.75244 ],\n",
              "       [108.51232 , 134.71622 ,  61.72467 ,  84.116844,  75.17457 ,\n",
              "        299.84174 , 131.50858 , 180.75671 ,  42.38108 , 253.8672  ]],\n",
              "      dtype=float32)"
            ]
          },
          "metadata": {},
          "execution_count": 36
        }
      ]
    },
    {
      "cell_type": "code",
      "source": [
        "from mlxtend.plotting import plot_decision_regions\n",
        "plot_decision_regions(X_train,y_train.astype('int'),clf=model,legend=2)"
      ],
      "metadata": {
        "colab": {
          "base_uri": "https://localhost:8080/",
          "height": 465
        },
        "id": "U1IVkJPbZbiY",
        "outputId": "30998cc1-d499-40c9-dbb3-593f5a722d5e"
      },
      "execution_count": 37,
      "outputs": [
        {
          "output_type": "stream",
          "name": "stdout",
          "text": [
            "9600/9600 [==============================] - 17s 2ms/step\n"
          ]
        },
        {
          "output_type": "execute_result",
          "data": {
            "text/plain": [
              "<Axes: >"
            ]
          },
          "metadata": {},
          "execution_count": 37
        },
        {
          "output_type": "display_data",
          "data": {
            "text/plain": [
              "<Figure size 640x480 with 1 Axes>"
            ],
            "image/png": "[encoded data removed]"
          },
          "metadata": {}
        }
      ]
    },
    {
      "cell_type": "code",
      "source": [],
      "metadata": {
        "id": "C5pXWJ0yabvH"
      },
      "execution_count": null,
      "outputs": []
    },
    {
      "cell_type": "code",
      "source": [],
      "metadata": {
        "id": "rr-OmeAQatNE"
      },
      "execution_count": null,
      "outputs": []
    },
    {
      "cell_type": "code",
      "source": [],
      "metadata": {
        "id": "e4ymam8jatP9"
      },
      "execution_count": null,
      "outputs": []
    },
    {
      "cell_type": "code",
      "source": [],
      "metadata": {
        "id": "D9y2xC8_atSp"
      },
      "execution_count": null,
      "outputs": []
    },
    {
      "cell_type": "code",
      "source": [],
      "metadata": {
        "id": "HYGztkohatU6"
      },
      "execution_count": null,
      "outputs": []
    },
    {
      "cell_type": "code",
      "source": [],
      "metadata": {
        "id": "VstZCnQqatXq"
      },
      "execution_count": null,
      "outputs": []
    },
    {
      "cell_type": "code",
      "source": [],
      "metadata": {
        "id": "31shyr-eataL"
      },
      "execution_count": null,
      "outputs": []
    }
  ]
}