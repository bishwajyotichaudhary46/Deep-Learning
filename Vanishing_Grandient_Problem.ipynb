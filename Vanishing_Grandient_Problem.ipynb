{
  "nbformat": 4,
  "nbformat_minor": 0,
  "metadata": {
    "colab": {
      "provenance": [],
      "gpuType": "T4"
    },
    "kernelspec": {
      "name": "python3",
      "display_name": "Python 3"
    },
    "language_info": {
      "name": "python"
    },
    "accelerator": "GPU"
  },
  "cells": [
    {
      "cell_type": "code",
      "execution_count": 2,
      "metadata": {
        "id": "RO1KEwPDVQ0P"
      },
      "outputs": [],
      "source": [
        "import tensorflow as tf\n",
        "import keras\n",
        "from keras.layers import Dense\n",
        "from keras.models import Sequential\n",
        "import matplotlib.pyplot as plt\n",
        "import numpy as np\n",
        "from sklearn.datasets import make_moons\n",
        "from sklearn.model_selection import train_test_split"
      ]
    },
    {
      "cell_type": "code",
      "source": [
        "X, y   = make_moons(n_samples=100, random_state=42)"
      ],
      "metadata": {
        "id": "uWI59ZcEV4tp"
      },
      "execution_count": 4,
      "outputs": []
    },
    {
      "cell_type": "code",
      "source": [
        "X"
      ],
      "metadata": {
        "colab": {
          "base_uri": "https://localhost:8080/"
        },
        "id": "l6acucV0WZhu",
        "outputId": "36dab0b2-69a3-4141-9d85-87f98b6a35a8"
      },
      "execution_count": 5,
      "outputs": [
        {
          "output_type": "execute_result",
          "data": {
            "text/plain": [
              "array([[ 1.51839257e+00, -3.55142763e-01],\n",
              "       [ 1.84408430e-02,  3.08841371e-01],\n",
              "       [ 7.15472413e-01, -4.58667853e-01],\n",
              "       [-9.67294863e-01,  2.53654584e-01],\n",
              "       [-9.49055747e-01,  3.15108218e-01],\n",
              "       [-8.01413622e-01,  5.98110530e-01],\n",
              "       [ 1.59599895e-01,  9.87181783e-01],\n",
              "       [ 1.34536505e+00, -4.38468422e-01],\n",
              "       [ 8.01413622e-01,  5.98110530e-01],\n",
              "       [ 1.00000000e+00,  0.00000000e+00],\n",
              "       [ 4.04783343e-01,  9.14412623e-01],\n",
              "       [-3.45365054e-01,  9.38468422e-01],\n",
              "       [ 9.03976974e-01, -4.95379113e-01],\n",
              "       [-5.18392568e-01,  8.55142763e-01],\n",
              "       [ 1.83808810e+00, -4.55349012e-02],\n",
              "       [ 9.67294863e-01,  2.53654584e-01],\n",
              "       [ 1.09602303e+00, -4.95379113e-01],\n",
              "       [ 1.15959990e+00, -4.87181783e-01],\n",
              "       [ 7.18349350e-01,  6.95682551e-01],\n",
              "       [-4.04783343e-01,  9.14412623e-01],\n",
              "       [ 5.09442530e-02,  1.84891782e-01],\n",
              "       [ 1.76144596e+00, -1.48228395e-01],\n",
              "       [-9.60230259e-02,  9.95379113e-01],\n",
              "       [-9.00968868e-01,  4.33883739e-01],\n",
              "       [ 6.54634946e-01, -4.38468422e-01],\n",
              "       [ 5.72116660e-01,  8.20172255e-01],\n",
              "       [-8.38088105e-01,  5.45534901e-01],\n",
              "       [ 1.98155916e+00,  3.08841371e-01],\n",
              "       [ 8.38088105e-01,  5.45534901e-01],\n",
              "       [ 8.40400105e-01, -4.87181783e-01],\n",
              "       [ 7.61445958e-01,  6.48228395e-01],\n",
              "       [-9.91790014e-01,  1.27877162e-01],\n",
              "       [ 1.62348980e+00, -2.81831482e-01],\n",
              "       [-2.22520934e-01,  9.74927912e-01],\n",
              "       [ 1.92691676e+00,  1.24732995e-01],\n",
              "       [ 9.49055747e-01,  3.15108218e-01],\n",
              "       [ 4.81607432e-01, -3.55142763e-01],\n",
              "       [ 4.27883340e-01, -3.20172255e-01],\n",
              "       [-6.23489802e-01,  7.81831482e-01],\n",
              "       [ 5.18392568e-01,  8.55142763e-01],\n",
              "       [-1.00000000e+00,  1.22464680e-16],\n",
              "       [-5.72116660e-01,  8.20172255e-01],\n",
              "       [ 9.00968868e-01,  4.33883739e-01],\n",
              "       [ 1.96729486e+00,  2.46345416e-01],\n",
              "       [-1.59599895e-01,  9.87181783e-01],\n",
              "       [ 3.45365054e-01,  9.38468422e-01],\n",
              "       [ 1.40478334e+00, -4.14412623e-01],\n",
              "       [-3.20515776e-02,  9.99486216e-01],\n",
              "       [ 2.81650650e-01, -1.95682551e-01],\n",
              "       [ 6.72300890e-01,  7.40277997e-01],\n",
              "       [ 3.20515776e-02,  9.99486216e-01],\n",
              "       [ 9.81559157e-01,  1.91158629e-01],\n",
              "       [ 4.62538290e-01,  8.86599306e-01],\n",
              "       [-7.61445958e-01,  6.48228395e-01],\n",
              "       [ 8.71318704e-01,  4.90717552e-01],\n",
              "       [ 1.22252093e+00, -4.74927912e-01],\n",
              "       [ 9.26916757e-01,  3.75267005e-01],\n",
              "       [ 3.76510198e-01, -2.81831482e-01],\n",
              "       [-6.72300890e-01,  7.40277997e-01],\n",
              "       [ 1.80141362e+00, -9.81105305e-02],\n",
              "       [ 7.30832427e-02,  1.24732995e-01],\n",
              "       [ 2.00000000e+00,  5.00000000e-01],\n",
              "       [ 3.27051370e-02,  2.46345416e-01],\n",
              "       [-9.26916757e-01,  3.75267005e-01],\n",
              "       [ 0.00000000e+00,  5.00000000e-01],\n",
              "       [ 5.37461710e-01, -3.86599306e-01],\n",
              "       [-9.81559157e-01,  1.91158629e-01],\n",
              "       [ 5.95216657e-01, -4.14412623e-01],\n",
              "       [ 2.38554042e-01, -1.48228395e-01],\n",
              "       [ 1.99179001e+00,  3.72122838e-01],\n",
              "       [ 1.28452759e+00, -4.58667853e-01],\n",
              "       [-8.71318704e-01,  4.90717552e-01],\n",
              "       [ 1.28681296e-01,  9.28244800e-03],\n",
              "       [-9.97945393e-01,  6.40702200e-02],\n",
              "       [ 1.99794539e+00,  4.35929780e-01],\n",
              "       [ 9.90311321e-02,  6.61162609e-02],\n",
              "       [ 1.03205158e+00, -4.99486216e-01],\n",
              "       [-4.62538290e-01,  8.86599306e-01],\n",
              "       [ 1.94905575e+00,  1.84891782e-01],\n",
              "       [ 1.61911895e-01, -4.55349012e-02],\n",
              "       [ 3.27699110e-01, -2.40277997e-01],\n",
              "       [ 1.57211666e+00, -3.20172255e-01],\n",
              "       [-7.18349350e-01,  6.95682551e-01],\n",
              "       [-2.84527587e-01,  9.58667853e-01],\n",
              "       [ 9.97945393e-01,  6.40702200e-02],\n",
              "       [ 8.20998618e-03,  3.72122838e-01],\n",
              "       [ 2.22520934e-01,  9.74927912e-01],\n",
              "       [ 9.91790014e-01,  1.27877162e-01],\n",
              "       [ 9.60230259e-02,  9.95379113e-01],\n",
              "       [ 1.71834935e+00, -1.95682551e-01],\n",
              "       [ 1.87131870e+00,  9.28244800e-03],\n",
              "       [ 9.67948422e-01, -4.99486216e-01],\n",
              "       [ 1.67230089e+00, -2.40277997e-01],\n",
              "       [ 1.46253829e+00, -3.86599306e-01],\n",
              "       [ 2.84527587e-01,  9.58667853e-01],\n",
              "       [ 1.98586378e-01, -9.81105305e-02],\n",
              "       [ 7.77479066e-01, -4.74927912e-01],\n",
              "       [ 6.23489802e-01,  7.81831482e-01],\n",
              "       [ 1.90096887e+00,  6.61162609e-02],\n",
              "       [ 2.05460725e-03,  4.35929780e-01]])"
            ]
          },
          "metadata": {},
          "execution_count": 5
        }
      ]
    },
    {
      "cell_type": "code",
      "source": [
        "plt.scatter(X[:,0], X[:,1], c=y ,s=100)\n",
        "plt.show()"
      ],
      "metadata": {
        "colab": {
          "base_uri": "https://localhost:8080/",
          "height": 430
        },
        "id": "DUs6nUD1Wb55",
        "outputId": "b04541f0-0bc8-46d3-a713-2c461c60330a"
      },
      "execution_count": 7,
      "outputs": [
        {
          "output_type": "display_data",
          "data": {
            "text/plain": [
              "<Figure size 640x480 with 1 Axes>"
            ],
            "image/png": "[encoded data removed]"
          },
          "metadata": {}
        }
      ]
    },
    {
      "cell_type": "code",
      "source": [
        "model = Sequential()\n",
        "model.add(Dense(10, activation='sigmoid', input_dim=2))\n",
        "model.add(Dense(10, activation='sigmoid'))\n",
        "model.add(Dense(10, activation='sigmoid'))\n",
        "model.add(Dense(10, activation='sigmoid'))\n",
        "model.add(Dense(10, activation='sigmoid'))\n",
        "model.add(Dense(10, activation='sigmoid'))\n",
        "model.add(Dense(10, activation='sigmoid'))\n",
        "model.add(Dense(10, activation='sigmoid'))\n",
        "model.add(Dense(10, activation='sigmoid'))\n",
        "model.add(Dense(10, activation='sigmoid'))\n",
        "model.add(Dense(10, activation='sigmoid'))\n",
        "model.add(Dense(1, activation='sigmoid'))\n"
      ],
      "metadata": {
        "id": "ZUG2nSJ3WnJb"
      },
      "execution_count": 8,
      "outputs": []
    },
    {
      "cell_type": "code",
      "source": [
        "model.compile(loss='binary_crossentropy', optimizer='adam', metrics=['accuracy'])"
      ],
      "metadata": {
        "id": "wfuzhXhpXjgM"
      },
      "execution_count": 9,
      "outputs": []
    },
    {
      "cell_type": "code",
      "source": [
        "model.get_weights()[0]"
      ],
      "metadata": {
        "colab": {
          "base_uri": "https://localhost:8080/"
        },
        "id": "h5Lb1a1sYG3H",
        "outputId": "a92139f7-efd3-47cf-d230-3e8691f5bf80"
      },
      "execution_count": 11,
      "outputs": [
        {
          "output_type": "execute_result",
          "data": {
            "text/plain": [
              "array([[ 0.00607169, -0.28068468,  0.27665222,  0.4919116 ,  0.11416721,\n",
              "         0.33837467, -0.6408607 ,  0.6731935 ,  0.49035138,  0.01392853],\n",
              "       [ 0.11580253, -0.5285579 ,  0.07458156, -0.5910212 , -0.49455565,\n",
              "        -0.705389  ,  0.13376969, -0.3079168 ,  0.24040747,  0.11392343]],\n",
              "      dtype=float32)"
            ]
          },
          "metadata": {},
          "execution_count": 11
        }
      ]
    },
    {
      "cell_type": "code",
      "source": [
        "old_weights = model.get_weights()[0]"
      ],
      "metadata": {
        "id": "W23vX2hsYL_o"
      },
      "execution_count": 12,
      "outputs": []
    },
    {
      "cell_type": "code",
      "source": [
        "X_train,X_test, y_train , y_test= train_test_split(X,y, random_state=42)"
      ],
      "metadata": {
        "id": "UYr2eQxdYeGl"
      },
      "execution_count": 13,
      "outputs": []
    },
    {
      "cell_type": "code",
      "source": [
        "model.fit(X_train,y_train,epochs=10)"
      ],
      "metadata": {
        "colab": {
          "base_uri": "https://localhost:8080/"
        },
        "id": "K4V1k9UMYvbC",
        "outputId": "a8d2ac19-b9cb-4644-88f3-11a572ca5876"
      },
      "execution_count": 15,
      "outputs": [
        {
          "output_type": "stream",
          "name": "stdout",
          "text": [
            "Epoch 1/10\n",
            "3/3 [==============================] - 0s 9ms/step - loss: 0.9505 - accuracy: 0.4400\n",
            "Epoch 2/10\n",
            "3/3 [==============================] - 0s 8ms/step - loss: 0.9396 - accuracy: 0.4400\n",
            "Epoch 3/10\n",
            "3/3 [==============================] - 0s 9ms/step - loss: 0.9284 - accuracy: 0.4400\n",
            "Epoch 4/10\n",
            "3/3 [==============================] - 0s 8ms/step - loss: 0.9179 - accuracy: 0.4400\n",
            "Epoch 5/10\n",
            "3/3 [==============================] - 0s 8ms/step - loss: 0.9068 - accuracy: 0.4400\n",
            "Epoch 6/10\n",
            "3/3 [==============================] - 0s 9ms/step - loss: 0.8969 - accuracy: 0.4400\n",
            "Epoch 7/10\n",
            "3/3 [==============================] - 0s 9ms/step - loss: 0.8872 - accuracy: 0.4400\n",
            "Epoch 8/10\n",
            "3/3 [==============================] - 0s 9ms/step - loss: 0.8777 - accuracy: 0.4400\n",
            "Epoch 9/10\n",
            "3/3 [==============================] - 0s 9ms/step - loss: 0.8682 - accuracy: 0.4400\n",
            "Epoch 10/10\n",
            "3/3 [==============================] - 0s 8ms/step - loss: 0.8590 - accuracy: 0.4400\n"
          ]
        },
        {
          "output_type": "execute_result",
          "data": {
            "text/plain": [
              "<keras.callbacks.History at 0x7e93d85029b0>"
            ]
          },
          "metadata": {},
          "execution_count": 15
        }
      ]
    },
    {
      "cell_type": "code",
      "source": [
        "new_weights = model.get_weights()[0]"
      ],
      "metadata": {
        "id": "jran2YR0Y0pT"
      },
      "execution_count": 17,
      "outputs": []
    },
    {
      "cell_type": "code",
      "source": [
        "new_weights"
      ],
      "metadata": {
        "colab": {
          "base_uri": "https://localhost:8080/"
        },
        "id": "WrdDuu09ZGI9",
        "outputId": "b6e43b9a-120c-4a81-cab8-7f3cdaba999e"
      },
      "execution_count": 18,
      "outputs": [
        {
          "output_type": "execute_result",
          "data": {
            "text/plain": [
              "array([[ 0.00513737, -0.28158405,  0.2773733 ,  0.49247983,  0.11484072,\n",
              "         0.33904237, -0.64140356,  0.6737621 ,  0.48979098,  0.01362782],\n",
              "       [ 0.11606404, -0.52829635,  0.0743724 , -0.5911866 , -0.4947452 ,\n",
              "        -0.7055725 ,  0.13395216, -0.30810675,  0.24057324,  0.11400262]],\n",
              "      dtype=float32)"
            ]
          },
          "metadata": {},
          "execution_count": 18
        }
      ]
    },
    {
      "cell_type": "code",
      "source": [
        "old_weights"
      ],
      "metadata": {
        "colab": {
          "base_uri": "https://localhost:8080/"
        },
        "id": "8SZYy9kxZI5u",
        "outputId": "806da9d9-53db-4e08-d379-6f43e604a1ba"
      },
      "execution_count": 19,
      "outputs": [
        {
          "output_type": "execute_result",
          "data": {
            "text/plain": [
              "array([[ 0.00607169, -0.28068468,  0.27665222,  0.4919116 ,  0.11416721,\n",
              "         0.33837467, -0.6408607 ,  0.6731935 ,  0.49035138,  0.01392853],\n",
              "       [ 0.11580253, -0.5285579 ,  0.07458156, -0.5910212 , -0.49455565,\n",
              "        -0.705389  ,  0.13376969, -0.3079168 ,  0.24040747,  0.11392343]],\n",
              "      dtype=float32)"
            ]
          },
          "metadata": {},
          "execution_count": 19
        }
      ]
    },
    {
      "cell_type": "code",
      "source": [
        "percentage_change = abs(100*(old_weights - new_weights)/old_weights)"
      ],
      "metadata": {
        "id": "22gVXQLeZK33"
      },
      "execution_count": 20,
      "outputs": []
    },
    {
      "cell_type": "code",
      "source": [
        "percentage_change"
      ],
      "metadata": {
        "colab": {
          "base_uri": "https://localhost:8080/"
        },
        "id": "xw13dYTQZZws",
        "outputId": "7e9ab5bc-9e16-411f-9215-8e42a7aca72a"
      },
      "execution_count": 21,
      "outputs": [
        {
          "output_type": "execute_result",
          "data": {
            "text/plain": [
              "array([[15.388084  ,  0.32042167,  0.26065108,  0.11551687,  0.58992654,\n",
              "         0.19732305,  0.08471094,  0.08445843,  0.11428598,  2.1589637 ],\n",
              "       [ 0.22582874,  0.04948279,  0.28044483,  0.02798595,  0.03832587,\n",
              "         0.02600878,  0.13640215,  0.06169199,  0.06895602,  0.06950701]],\n",
              "      dtype=float32)"
            ]
          },
          "metadata": {},
          "execution_count": 21
        }
      ]
    },
    {
      "cell_type": "code",
      "source": [
        "from mlxtend.plotting import plot_decision_regions\n",
        "plot_decision_regions(X_train,y_train.astype('int'),clf=model,legend=2)"
      ],
      "metadata": {
        "colab": {
          "base_uri": "https://localhost:8080/",
          "height": 465
        },
        "id": "U1IVkJPbZbiY",
        "outputId": "9310cc1c-e1f7-44ab-df53-bd323f1a85ce"
      },
      "execution_count": 23,
      "outputs": [
        {
          "output_type": "stream",
          "name": "stdout",
          "text": [
            "9600/9600 [==============================] - 19s 2ms/step\n"
          ]
        },
        {
          "output_type": "execute_result",
          "data": {
            "text/plain": [
              "<Axes: >"
            ]
          },
          "metadata": {},
          "execution_count": 23
        },
        {
          "output_type": "display_data",
          "data": {
            "text/plain": [
              "<Figure size 640x480 with 1 Axes>"
            ],
            "image/png": "[encoded data removed]"
          },
          "metadata": {}
        }
      ]
    },
    {
      "cell_type": "code",
      "source": [],
      "metadata": {
        "id": "C5pXWJ0yabvH"
      },
      "execution_count": null,
      "outputs": []
    },
    {
      "cell_type": "code",
      "source": [],
      "metadata": {
        "id": "rr-OmeAQatNE"
      },
      "execution_count": null,
      "outputs": []
    },
    {
      "cell_type": "code",
      "source": [],
      "metadata": {
        "id": "e4ymam8jatP9"
      },
      "execution_count": null,
      "outputs": []
    },
    {
      "cell_type": "code",
      "source": [],
      "metadata": {
        "id": "D9y2xC8_atSp"
      },
      "execution_count": null,
      "outputs": []
    },
    {
      "cell_type": "code",
      "source": [],
      "metadata": {
        "id": "HYGztkohatU6"
      },
      "execution_count": null,
      "outputs": []
    },
    {
      "cell_type": "code",
      "source": [],
      "metadata": {
        "id": "VstZCnQqatXq"
      },
      "execution_count": null,
      "outputs": []
    },
    {
      "cell_type": "code",
      "source": [],
      "metadata": {
        "id": "31shyr-eataL"
      },
      "execution_count": null,
      "outputs": []
    }
  ]
}